{
 "cells": [
  {
   "cell_type": "markdown",
   "metadata": {},
   "source": [
    "# Fruit-360 preprocessor\n",
    "This notebook will prepare the fruit-360 dataset for the Peltarion platform.\n",
    "\n",
    "Note: This notebook requires installation of Sidekick. For more information about this package, see: https://github.com/Peltarion/sidekick"
   ]
  },
  {
   "cell_type": "code",
   "execution_count": 18,
   "metadata": {},
   "outputs": [],
   "source": [
    "import os\n",
    "import sidekick\n",
    "import resource\n",
    "import functools\n",
    "import pandas as pd\n",
    "from glob import glob\n",
    "from PIL import Image\n",
    "from sklearn.model_selection import train_test_split"
   ]
  },
  {
   "cell_type": "code",
   "execution_count": 12,
   "metadata": {},
   "outputs": [],
   "source": [
    "# Path to the raw dataset\n",
    "input_path = 'fruits-360/Training'\n",
    "os.chdir(input_path)\n",
    "# Path to the zip output\n",
    "output_path = '/tmp/data.zip'"
   ]
  },
  {
   "cell_type": "code",
   "execution_count": 13,
   "metadata": {},
   "outputs": [
    {
     "name": "stdout",
     "output_type": "stream",
     "text": [
      "Images found:  53177\n"
     ]
    }
   ],
   "source": [
    "images_rel_path = glob(os.path.join('*', '*.jpg')) + glob(os.path.join('*', '*.png'))\n",
    "print(\"Images found: \", len(images_rel_path))"
   ]
  },
  {
   "cell_type": "markdown",
   "metadata": {},
   "source": [
    "## Create Dataframe\n",
    "The class column values are derived from the names of the subfolders in the `input_path`.\n",
    "\n",
    "The image column contains the relative path to the images in the subfolders."
   ]
  },
  {
   "cell_type": "code",
   "execution_count": 14,
   "metadata": {},
   "outputs": [
    {
     "data": {
      "text/html": [
       "<div>\n",
       "<style scoped>\n",
       "    .dataframe tbody tr th:only-of-type {\n",
       "        vertical-align: middle;\n",
       "    }\n",
       "\n",
       "    .dataframe tbody tr th {\n",
       "        vertical-align: top;\n",
       "    }\n",
       "\n",
       "    .dataframe thead th {\n",
       "        text-align: right;\n",
       "    }\n",
       "</style>\n",
       "<table border=\"1\" class=\"dataframe\">\n",
       "  <thead>\n",
       "    <tr style=\"text-align: right;\">\n",
       "      <th></th>\n",
       "      <th>image</th>\n",
       "      <th>class</th>\n",
       "    </tr>\n",
       "  </thead>\n",
       "  <tbody>\n",
       "    <tr>\n",
       "      <th>0</th>\n",
       "      <td>Tomato 4/r_236_100.jpg</td>\n",
       "      <td>Tomato 4</td>\n",
       "    </tr>\n",
       "    <tr>\n",
       "      <th>1</th>\n",
       "      <td>Tomato 4/247_100.jpg</td>\n",
       "      <td>Tomato 4</td>\n",
       "    </tr>\n",
       "    <tr>\n",
       "      <th>2</th>\n",
       "      <td>Tomato 4/257_100.jpg</td>\n",
       "      <td>Tomato 4</td>\n",
       "    </tr>\n",
       "    <tr>\n",
       "      <th>3</th>\n",
       "      <td>Tomato 4/r_78_100.jpg</td>\n",
       "      <td>Tomato 4</td>\n",
       "    </tr>\n",
       "    <tr>\n",
       "      <th>4</th>\n",
       "      <td>Tomato 4/r_68_100.jpg</td>\n",
       "      <td>Tomato 4</td>\n",
       "    </tr>\n",
       "  </tbody>\n",
       "</table>\n",
       "</div>"
      ],
      "text/plain": [
       "                    image     class\n",
       "0  Tomato 4/r_236_100.jpg  Tomato 4\n",
       "1    Tomato 4/247_100.jpg  Tomato 4\n",
       "2    Tomato 4/257_100.jpg  Tomato 4\n",
       "3   Tomato 4/r_78_100.jpg  Tomato 4\n",
       "4   Tomato 4/r_68_100.jpg  Tomato 4"
      ]
     },
     "execution_count": 14,
     "metadata": {},
     "output_type": "execute_result"
    }
   ],
   "source": [
    "df = pd.DataFrame({'image': images_rel_path})\n",
    "df['class'] = df['image'].apply(lambda path: os.path.basename(os.path.dirname(path)))\n",
    "df.head()"
   ]
  },
  {
   "cell_type": "markdown",
   "metadata": {},
   "source": [
    "### Check that all images have the same format, e.g., RGB"
   ]
  },
  {
   "cell_type": "code",
   "execution_count": 15,
   "metadata": {},
   "outputs": [
    {
     "name": "stdout",
     "output_type": "stream",
     "text": [
      "RGB    53177\n",
      "Name: image_mode, dtype: int64\n"
     ]
    }
   ],
   "source": [
    "def get_mode(path):\n",
    "    im = Image.open(path)\n",
    "    im.close()\n",
    "    return im.mode\n",
    "\n",
    "df['image_mode'] = df['image'].apply(lambda path: get_mode(path))\n",
    "print(df['image_mode'].value_counts())\n",
    "df = df.drop(['image_mode'], axis=1)"
   ]
  },
  {
   "cell_type": "markdown",
   "metadata": {},
   "source": [
    "## Create subsets for training and validation"
   ]
  },
  {
   "cell_type": "code",
   "execution_count": 16,
   "metadata": {},
   "outputs": [
    {
     "data": {
      "text/html": [
       "<div>\n",
       "<style scoped>\n",
       "    .dataframe tbody tr th:only-of-type {\n",
       "        vertical-align: middle;\n",
       "    }\n",
       "\n",
       "    .dataframe tbody tr th {\n",
       "        vertical-align: top;\n",
       "    }\n",
       "\n",
       "    .dataframe thead th {\n",
       "        text-align: right;\n",
       "    }\n",
       "</style>\n",
       "<table border=\"1\" class=\"dataframe\">\n",
       "  <thead>\n",
       "    <tr style=\"text-align: right;\">\n",
       "      <th></th>\n",
       "      <th>image</th>\n",
       "      <th>class</th>\n",
       "      <th>subset</th>\n",
       "    </tr>\n",
       "  </thead>\n",
       "  <tbody>\n",
       "    <tr>\n",
       "      <th>0</th>\n",
       "      <td>Cocos/121_100.jpg</td>\n",
       "      <td>Cocos</td>\n",
       "      <td>T</td>\n",
       "    </tr>\n",
       "    <tr>\n",
       "      <th>1</th>\n",
       "      <td>Lemon/285_100.jpg</td>\n",
       "      <td>Lemon</td>\n",
       "      <td>T</td>\n",
       "    </tr>\n",
       "    <tr>\n",
       "      <th>2</th>\n",
       "      <td>Pineapple/279_100.jpg</td>\n",
       "      <td>Pineapple</td>\n",
       "      <td>T</td>\n",
       "    </tr>\n",
       "    <tr>\n",
       "      <th>3</th>\n",
       "      <td>Physalis/r_241_100.jpg</td>\n",
       "      <td>Physalis</td>\n",
       "      <td>T</td>\n",
       "    </tr>\n",
       "    <tr>\n",
       "      <th>4</th>\n",
       "      <td>Physalis/296_100.jpg</td>\n",
       "      <td>Physalis</td>\n",
       "      <td>T</td>\n",
       "    </tr>\n",
       "  </tbody>\n",
       "</table>\n",
       "</div>"
      ],
      "text/plain": [
       "                    image      class subset\n",
       "0       Cocos/121_100.jpg      Cocos      T\n",
       "1       Lemon/285_100.jpg      Lemon      T\n",
       "2   Pineapple/279_100.jpg  Pineapple      T\n",
       "3  Physalis/r_241_100.jpg   Physalis      T\n",
       "4    Physalis/296_100.jpg   Physalis      T"
      ]
     },
     "execution_count": 16,
     "metadata": {},
     "output_type": "execute_result"
    }
   ],
   "source": [
    "def create_subsets(df, col='class', validation_size=0.20):\n",
    "    train_data, validate_data = train_test_split(df, test_size=validation_size, random_state=42, stratify=df[[col]])\n",
    "    train_data.insert(loc=2, column='subset', value='T')\n",
    "    validate_data.insert(loc=2, column='subset', value='V')\n",
    "    return train_data.append(validate_data, ignore_index=True)\n",
    "\n",
    "df = create_subsets(df)\n",
    "df['subset'].value_counts()\n",
    "df.head()"
   ]
  },
  {
   "cell_type": "markdown",
   "metadata": {},
   "source": [
    "## Create dataset bundle"
   ]
  },
  {
   "cell_type": "code",
   "execution_count": 17,
   "metadata": {},
   "outputs": [],
   "source": [
    "'''\n",
    "Available modes:\n",
    "- crop_and_resize\n",
    "- center_crop_or_pad\n",
    "- resize_image\n",
    "'''\n",
    "image_processor = functools.partial(sidekick.process_image, mode='crop_and_resize', size=(100, 100), file_format='jpeg')\n",
    "sidekick.create_dataset(\n",
    "    output_path,\n",
    "    df,\n",
    "    path_columns=['image'],\n",
    "    preprocess={\n",
    "        'image': image_processor\n",
    "    }\n",
    ")"
   ]
  }
 ],
 "metadata": {
  "kernelspec": {
   "display_name": "Python 3",
   "language": "python",
   "name": "python3"
  },
  "language_info": {
   "codemirror_mode": {
    "name": "ipython",
    "version": 3
   },
   "file_extension": ".py",
   "mimetype": "text/x-python",
   "name": "python",
   "nbconvert_exporter": "python",
   "pygments_lexer": "ipython3",
   "version": "3.7.1"
  }
 },
 "nbformat": 4,
 "nbformat_minor": 2
}
