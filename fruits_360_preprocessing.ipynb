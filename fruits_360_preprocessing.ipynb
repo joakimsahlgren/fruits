{
 "cells": [
  {
   "cell_type": "markdown",
   "metadata": {},
   "source": [
    "# Fruit-360 preprocessor\n",
    "This notebook will prepare the fruit-360 dataset for the Peltarion platform.\n",
    "\n",
    "Note: This notebook requires installation of Sidekick. For more information about this package, see: https://github.com/Peltarion/sidekick"
   ]
  },
  {
   "cell_type": "code",
   "execution_count": 1,
   "metadata": {},
   "outputs": [],
   "source": [
    "import os\n",
    "import sidekick\n",
    "import resource\n",
    "import functools\n",
    "import pandas as pd\n",
    "from glob import glob\n",
    "from PIL import Image\n",
    "from tqdm import tqdm\n",
    "from sklearn.model_selection import train_test_split"
   ]
  },
  {
   "cell_type": "code",
   "execution_count": 15,
   "metadata": {},
   "outputs": [
    {
     "name": "stdout",
     "output_type": "stream",
     "text": [
      "/Users/joakim/rep/fruits\r\n"
     ]
    }
   ],
   "source": [
    "!pwd"
   ]
  },
  {
   "cell_type": "markdown",
   "metadata": {},
   "source": [
    "## Setup"
   ]
  },
  {
   "cell_type": "markdown",
   "metadata": {},
   "source": [
    "### Paths"
   ]
  },
  {
   "cell_type": "code",
   "execution_count": 3,
   "metadata": {},
   "outputs": [],
   "source": [
    "# Raw dataset\n",
    "input_path = 'fruits-360/Training_added_granny_smith'\n",
    "#os.chdir(input_path)\n",
    "# Zip output\n",
    "output_path = './data_modified3.zip'"
   ]
  },
  {
   "cell_type": "markdown",
   "metadata": {},
   "source": [
    "### Progress bar for Pandas"
   ]
  },
  {
   "cell_type": "code",
   "execution_count": 4,
   "metadata": {},
   "outputs": [],
   "source": [
    "tqdm.pandas()"
   ]
  },
  {
   "cell_type": "markdown",
   "metadata": {},
   "source": [
    "### Get list of image paths"
   ]
  },
  {
   "cell_type": "code",
   "execution_count": 19,
   "metadata": {},
   "outputs": [
    {
     "name": "stdout",
     "output_type": "stream",
     "text": [
      "Images found:  53177\n"
     ]
    }
   ],
   "source": [
    "images_rel_path = glob('fruits-360/Training/*/*.jpg') + glob('fruits-360/Training/*/*.png')\n",
    "print(\"Images found: \", len(images_rel_path))"
   ]
  },
  {
   "cell_type": "markdown",
   "metadata": {},
   "source": [
    "## Create Dataframe\n",
    "The class column values are derived from the names of the subfolders in the `input_path`.\n",
    "\n",
    "The image column contains the relative path to the images in the subfolders."
   ]
  },
  {
   "cell_type": "code",
   "execution_count": 20,
   "metadata": {},
   "outputs": [
    {
     "name": "stderr",
     "output_type": "stream",
     "text": [
      "100%|██████████| 53177/53177 [00:00<00:00, 305172.91it/s]\n"
     ]
    },
    {
     "data": {
      "text/html": [
       "<div>\n",
       "<style scoped>\n",
       "    .dataframe tbody tr th:only-of-type {\n",
       "        vertical-align: middle;\n",
       "    }\n",
       "\n",
       "    .dataframe tbody tr th {\n",
       "        vertical-align: top;\n",
       "    }\n",
       "\n",
       "    .dataframe thead th {\n",
       "        text-align: right;\n",
       "    }\n",
       "</style>\n",
       "<table border=\"1\" class=\"dataframe\">\n",
       "  <thead>\n",
       "    <tr style=\"text-align: right;\">\n",
       "      <th></th>\n",
       "      <th>image</th>\n",
       "      <th>class</th>\n",
       "    </tr>\n",
       "  </thead>\n",
       "  <tbody>\n",
       "    <tr>\n",
       "      <th>0</th>\n",
       "      <td>fruits-360/Training/Tomato 4/r_236_100.jpg</td>\n",
       "      <td>Tomato 4</td>\n",
       "    </tr>\n",
       "    <tr>\n",
       "      <th>1</th>\n",
       "      <td>fruits-360/Training/Tomato 4/247_100.jpg</td>\n",
       "      <td>Tomato 4</td>\n",
       "    </tr>\n",
       "    <tr>\n",
       "      <th>2</th>\n",
       "      <td>fruits-360/Training/Tomato 4/257_100.jpg</td>\n",
       "      <td>Tomato 4</td>\n",
       "    </tr>\n",
       "    <tr>\n",
       "      <th>3</th>\n",
       "      <td>fruits-360/Training/Tomato 4/r_78_100.jpg</td>\n",
       "      <td>Tomato 4</td>\n",
       "    </tr>\n",
       "    <tr>\n",
       "      <th>4</th>\n",
       "      <td>fruits-360/Training/Tomato 4/r_68_100.jpg</td>\n",
       "      <td>Tomato 4</td>\n",
       "    </tr>\n",
       "  </tbody>\n",
       "</table>\n",
       "</div>"
      ],
      "text/plain": [
       "                                        image     class\n",
       "0  fruits-360/Training/Tomato 4/r_236_100.jpg  Tomato 4\n",
       "1    fruits-360/Training/Tomato 4/247_100.jpg  Tomato 4\n",
       "2    fruits-360/Training/Tomato 4/257_100.jpg  Tomato 4\n",
       "3   fruits-360/Training/Tomato 4/r_78_100.jpg  Tomato 4\n",
       "4   fruits-360/Training/Tomato 4/r_68_100.jpg  Tomato 4"
      ]
     },
     "execution_count": 20,
     "metadata": {},
     "output_type": "execute_result"
    }
   ],
   "source": [
    "df = pd.DataFrame({'image': images_rel_path})\n",
    "#df['class'] = df['image'].apply(lambda path: os.path.basename(os.path.dirname(path)))\n",
    "df['class'] = df['image'].progress_apply(lambda path: os.path.basename(os.path.dirname(path)))\n",
    "df.head()"
   ]
  },
  {
   "cell_type": "markdown",
   "metadata": {},
   "source": [
    "### Check that all images have the same format, e.g., RGB"
   ]
  },
  {
   "cell_type": "code",
   "execution_count": 21,
   "metadata": {},
   "outputs": [
    {
     "name": "stderr",
     "output_type": "stream",
     "text": [
      "100%|██████████| 53177/53177 [00:18<00:00, 2861.97it/s]"
     ]
    },
    {
     "name": "stdout",
     "output_type": "stream",
     "text": [
      "RGB    53177\n",
      "Name: image_mode, dtype: int64\n"
     ]
    },
    {
     "name": "stderr",
     "output_type": "stream",
     "text": [
      "\n"
     ]
    }
   ],
   "source": [
    "def get_mode(path):\n",
    "    im = Image.open(path)\n",
    "    im.close()\n",
    "    return im.mode\n",
    "\n",
    "df['image_mode'] = df['image'].progress_apply(lambda path: get_mode(path))\n",
    "print(df['image_mode'].value_counts())\n",
    "df = df.drop(['image_mode'], axis=1)"
   ]
  },
  {
   "cell_type": "markdown",
   "metadata": {},
   "source": [
    "## Create subsets for training and validation"
   ]
  },
  {
   "cell_type": "code",
   "execution_count": 8,
   "metadata": {},
   "outputs": [
    {
     "data": {
      "text/plain": [
       "\"\\ndef create_subsets(df, col='class', validation_size=0.20):\\n    train_data, validate_data = train_test_split(df, test_size=validation_size, random_state=42, stratify=df[[col]])\\n    train_data.insert(loc=2, column='subset', value='T')\\n    validate_data.insert(loc=2, column='subset', value='V')\\n    return train_data.append(validate_data, ignore_index=True)\\n\\ndf = create_subsets(df)\\ndf['subset'].value_counts()\\ndf.head()\\n\""
      ]
     },
     "execution_count": 8,
     "metadata": {},
     "output_type": "execute_result"
    }
   ],
   "source": [
    "'''\n",
    "def create_subsets(df, col='class', validation_size=0.20):\n",
    "    train_data, validate_data = train_test_split(df, test_size=validation_size, random_state=42, stratify=df[[col]])\n",
    "    train_data.insert(loc=2, column='subset', value='T')\n",
    "    validate_data.insert(loc=2, column='subset', value='V')\n",
    "    return train_data.append(validate_data, ignore_index=True)\n",
    "\n",
    "df = create_subsets(df)\n",
    "df['subset'].value_counts()\n",
    "df.head()\n",
    "'''"
   ]
  },
  {
   "cell_type": "markdown",
   "metadata": {},
   "source": [
    "## View number of rows per class"
   ]
  },
  {
   "cell_type": "code",
   "execution_count": 8,
   "metadata": {},
   "outputs": [
    {
     "data": {
      "text/plain": [
       "Grape Blue             984\n",
       "Plum 3                 900\n",
       "Melon Piel de Sapo     738\n",
       "Peach 2                738\n",
       "Tomato 3               738\n",
       "Strawberry Wedge       738\n",
       "Tomato 1               738\n",
       "Cherry Rainier         738\n",
       "Cherry 2               738\n",
       "Walnut                 735\n",
       "Tomato 2               672\n",
       "Apple Red Yellow 2     672\n",
       "Pepper Yellow          666\n",
       "Pepper Red             666\n",
       "Pear Red               666\n",
       "Apple Granny Smith     502\n",
       "Pineapple Mini         493\n",
       "Peach                  492\n",
       "Cherry 1               492\n",
       "Apple Braeburn         492\n",
       "Grapefruit White       492\n",
       "Pear                   492\n",
       "Peach Flat             492\n",
       "Apple Red 1            492\n",
       "Redcurrant             492\n",
       "Cherry Wax Black       492\n",
       "Strawberry             492\n",
       "Cantaloupe 1           492\n",
       "Pomegranate            492\n",
       "Rambutan               492\n",
       "Physalis with Husk     492\n",
       "Nectarine              492\n",
       "Apple Golden 1         492\n",
       "Apricot                492\n",
       "Mulberry               492\n",
       "Cherry Wax Red         492\n",
       "Apple Red Yellow 1     492\n",
       "Apple Red 2            492\n",
       "Apple Golden 2         492\n",
       "Grape White 3          492\n",
       "Cantaloupe 2           492\n",
       "Cherry Wax Yellow      492\n",
       "Tomato Cherry Red      492\n",
       "Physalis               492\n",
       "Lemon                  492\n",
       "Papaya                 492\n",
       "Grape Pink             492\n",
       "Avocado ripe           491\n",
       "Kaki                   490\n",
       "Tamarillo              490\n",
       "Kumquats               490\n",
       "Dates                  490\n",
       "Pineapple              490\n",
       "Maracuja               490\n",
       "Pepino                 490\n",
       "Grapefruit Pink        490\n",
       "Huckleberry            490\n",
       "Pitahaya Red           490\n",
       "Lemon Meyer            490\n",
       "Limes                  490\n",
       "Tangelo                490\n",
       "Mandarine              490\n",
       "Mango                  490\n",
       "Carambula              490\n",
       "Grape White            490\n",
       "Salak                  490\n",
       "Quince                 490\n",
       "Cocos                  490\n",
       "Passion Fruit          490\n",
       "Guava                  490\n",
       "Banana Red             490\n",
       "Lychee                 490\n",
       "Granadilla             490\n",
       "Banana                 490\n",
       "Cactus fruit           490\n",
       "Raspberry              490\n",
       "Pear Monster           490\n",
       "Pear Williams          490\n",
       "Apple Red Delicious    490\n",
       "Clementine             490\n",
       "Grape White 2          490\n",
       "Pear Abate             490\n",
       "Apple Golden 3         481\n",
       "Tomato 4               479\n",
       "Orange                 479\n",
       "Grape White 4          471\n",
       "Kohlrabi               471\n",
       "Kiwi                   466\n",
       "Hazelnut               464\n",
       "Tomato Yellow          459\n",
       "Apple Pink Lady        456\n",
       "Banana Lady Finger     450\n",
       "Chestnut               450\n",
       "Pomelo Sweetie         450\n",
       "Plum                   447\n",
       "Apple Crimson Snow     444\n",
       "Pepper Green           444\n",
       "Apple Red 3            429\n",
       "Avocado                427\n",
       "Plum 2                 420\n",
       "Tomato Maroon          367\n",
       "Mangostan              300\n",
       "Pear Kaiser            300\n",
       "Name: class, dtype: int64"
      ]
     },
     "execution_count": 8,
     "metadata": {},
     "output_type": "execute_result"
    }
   ],
   "source": [
    "pd.set_option('display.max_rows', 150)\n",
    "df['class'].value_counts()"
   ]
  },
  {
   "cell_type": "markdown",
   "metadata": {},
   "source": [
    "## Create dataset bundle"
   ]
  },
  {
   "cell_type": "code",
   "execution_count": 9,
   "metadata": {},
   "outputs": [],
   "source": [
    "'''\n",
    "Available modes:\n",
    "- crop_and_resize\n",
    "- center_crop_or_pad\n",
    "- resize_image\n",
    "'''\n",
    "image_processor = functools.partial(sidekick.process_image, mode='crop_and_resize', size=(100, 100), file_format='jpeg')\n",
    "sidekick.create_dataset(\n",
    "    output_path,\n",
    "    df,\n",
    "    path_columns=['image'],\n",
    "    preprocess={\n",
    "        'image': image_processor\n",
    "    }\n",
    ")"
   ]
  }
 ],
 "metadata": {
  "kernelspec": {
   "display_name": "Python 3",
   "language": "python",
   "name": "python3"
  },
  "language_info": {
   "codemirror_mode": {
    "name": "ipython",
    "version": 3
   },
   "file_extension": ".py",
   "mimetype": "text/x-python",
   "name": "python",
   "nbconvert_exporter": "python",
   "pygments_lexer": "ipython3",
   "version": "3.7.1"
  }
 },
 "nbformat": 4,
 "nbformat_minor": 2
}
